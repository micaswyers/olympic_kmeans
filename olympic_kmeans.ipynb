{
 "cells": [
  {
   "cell_type": "markdown",
   "metadata": {},
   "source": [
    "# K-Means Clustering with Python"
   ]
  },
  {
   "cell_type": "markdown",
   "metadata": {},
   "source": [
    "## Objectives\n",
    "After this workshop, you will be able to:\n",
    "* describe the k-means clustering algorithm\n",
    "* understand the limits of k-means clustering\n",
    "* edit and execute cells in a Jupyter notebook\n",
    "* use a pandas DataFrame object\n",
    "* find which Olympic event you're best suited for!"
   ]
  },
  {
   "cell_type": "markdown",
   "metadata": {},
   "source": [
    "## What is the *k-means* clustering algorithm?\n",
    "\n",
    "K-means is a clustering algorithm to divide groups of data into *k* number of clusters. It is unsupervised learning, so the clustering happens on unlabeled, unclassified data without any guidance.\n",
    "\n",
    "The steps are:\n",
    "1. Initialize *k* cluster centers (\"centroids\") within the parameters of the data\n",
    "2. Assign each datapoint to its closest centroid, usually by Euclidean distance.\n",
    "3. Update the location of each cluster's centroid.\n",
    "4. Repeat steps 2 & 3 until the clusters don't change.\n",
    "\n",
    "![K-Means Clustering](static/kmeans.gif)\n"
   ]
  },
  {
   "cell_type": "markdown",
   "metadata": {},
   "source": [
    "## When should I use k-means?\n",
    "\n",
    "K-means clustering works well on data sets with points that are distinct or well-separated from each other in a linear fashion. For picking the number of centroids, it is useful to pick a *k* value that is well-defined in the data already.\n",
    "\n",
    "Datasets that have a lot of overlap, outliers, and noise do not lend themselves well to k-means clustering."
   ]
  },
  {
   "cell_type": "markdown",
   "metadata": {},
   "source": [
    "## Chapter 0: 120 years of Olympic history!\n",
    "We'll be working with Olympic athlete statistics because:\n",
    "1. We can easily separate two dimensions (height and weight). There's no need for \"dimensionality reduction\" (combining multiple features into N dimensions).\n",
    "2. Based on those two features, the data separates easily into distinct groups.\n",
    "3. The Olympics are really exciting!"
   ]
  },
  {
   "cell_type": "markdown",
   "metadata": {},
   "source": [
    "## Chapter 1: Let's import our tools!\n",
    "Here are some of the libraries we'll be working with:\n",
    "* `pandas`'s `DataFrame` object to store and manipulate the data\n",
    "* `scikit-learn`'s k-means implementation\n",
    "* `matplotlib` for creating a plot\n",
    "* `seaborn` for making the plot look less ugly\n",
    "\n",
    "Import those below:"
   ]
  },
  {
   "cell_type": "code",
   "execution_count": 52,
   "metadata": {},
   "outputs": [],
   "source": [
    "# Imports go here\n",
    "import matplotlib.pyplot as plt\n",
    "import pandas\n",
    "import seaborn as seaborn\n",
    "from sklearn.cluster import KMeans"
   ]
  },
  {
   "cell_type": "markdown",
   "metadata": {},
   "source": [
    "## Chapter 2: What is this DataFrame thing?"
   ]
  },
  {
   "cell_type": "code",
   "execution_count": 69,
   "metadata": {},
   "outputs": [],
   "source": [
    "# Create a pandas DataFrame object from a CSV of Olympian data\n",
    "olympian_data = pandas.read_csv(\n",
    "    'data/athlete_events.csv',\n",
    "    usecols=[\n",
    "        'ID',\n",
    "        'Name',\n",
    "        'Sex',\n",
    "        'Year',\n",
    "        'Age',\n",
    "        'Height',\n",
    "        'Weight',\n",
    "        'Sport',\n",
    "        'Team',\n",
    "    ],\n",
    ")"
   ]
  },
  {
   "cell_type": "markdown",
   "metadata": {},
   "source": [
    "Above, we have imported our Olympian data in our CSV file into a data structure called a pandas [DataFrame](https://pandas.pydata.org/pandas-docs/stable/generated/pandas.DataFrame.html). Pandas is a popular library for data science. You can think of a DataFrame as a spreadsheet: it organizes the data into rows and columns that you can sort and slice by."
   ]
  },
  {
   "cell_type": "markdown",
   "metadata": {},
   "source": [
    "### Chapter 2a: Cleaning up our DataFrame"
   ]
  },
  {
   "cell_type": "markdown",
   "metadata": {},
   "source": [
    "We need to clean up our data a bit. Let's first drop the duplicates using the `drop_duplicates()` method. We will want to drop any duplicates we find in the `Name` and `Sport` column specifically to handle athletes who competed in multiple events and/or sports."
   ]
  },
  {
   "cell_type": "code",
   "execution_count": 79,
   "metadata": {},
   "outputs": [
    {
     "name": "stdout",
     "output_type": "stream",
     "text": [
      "            ID            Name Sex   Age  Height  Weight   Team  Year  \\\n",
      "0            1       A Dijiang   M  24.0   180.0    80.0  China  1992   \n",
      "1            2        A Lamusi   M  23.0   170.0    60.0  China  2012   \n",
      "1072       602   Abudoureheman   M  22.0   182.0    75.0  China  2000   \n",
      "2611      1463       Ai Linuer   M  25.0   160.0    62.0  China  2004   \n",
      "2612      1464       Ai Yanhan   F  14.0   168.0    54.0  China  2016   \n",
      "6427      3605     An Weijiang   M  22.0   178.0    72.0  China  2006   \n",
      "6433      3610       An Yulong   M  19.0   173.0    70.0  China  1998   \n",
      "6437      3611     An Zhongxin   F  23.0   170.0    65.0  China  1996   \n",
      "8423      4639    Ao Changrong   M  25.0   173.0    71.0  China  2008   \n",
      "8425      4641        Ao Tegen   M  21.0   181.0    90.0  China  1996   \n",
      "11685     6376        Ba Dexin   M  23.0   185.0    80.0  China  2014   \n",
      "11690     6381          Ba Yan   F  21.0   183.0    78.0  China  1984   \n",
      "11691     6382     Ba Yanchuan   M  24.0   187.0   100.0  China  1996   \n",
      "11692     6383     Ba Yongshan   M  22.0   180.0    70.0  China  1984   \n",
      "12568     6847        Bai Anqi   F  19.0   164.0    59.0  China  2012   \n",
      "12569     6848  Bai Chongguang   M  21.0   184.0    83.0  China  1992   \n",
      "12570     6849      Bai Faquan   M  26.0   173.0    66.0  China  2012   \n",
      "12573     6851         Bai Jie   F  28.0   163.0    53.0  China  2000   \n",
      "12575     6853        Bai Lili   F  25.0   168.0    57.0  China  2004   \n",
      "12576     6854         Bai Mei   F  17.0   166.0    46.0  China  1992   \n",
      "12577     6855     Bai Qiuming   M  19.0   173.0    70.0  China  2014   \n",
      "12579     6857         Bai Xue   F  19.0   165.0    53.0  China  2008   \n",
      "14073     7595     Bao Chunlai   M  21.0   190.0    80.0  China  2004   \n",
      "14075     7596     Bao Jiaping   M  27.0   177.0    55.0  China  1936   \n",
      "14076     7597    Bao Yingying   F  24.0   172.0    67.0  China  2008   \n",
      "14078     7598      Bao Yuqing   F  22.0   173.0    55.0  China  2016   \n",
      "21256    11222    Bi Shengfeng   M  27.0   183.0    87.0  China  2016   \n",
      "21257    11223      Bi Wenjing   F  14.0   142.0    35.0  China  1996   \n",
      "21262    11224          Bi Yan   F  20.0   170.0    62.0  China  2004   \n",
      "21264    11225        Bi Zhong   M  23.0   188.0   110.0  China  1992   \n",
      "...        ...             ...  ..   ...     ...     ...    ...   ...   \n",
      "269493  134850         Zhu Min   F  24.0   180.0    76.0  China  2012   \n",
      "269494  134851      Zhu Minzhu   F  22.0   172.0    64.0  China  1984   \n",
      "269495  134852     Zhu Qianwei   F  17.0   179.0    68.0  China  2008   \n",
      "269499  134853       Zhu Qinan   M  19.0   183.0    75.0  China  2004   \n",
      "269505  134854    Zhu Qingyuan   F  27.0   168.0    62.0  China  1984   \n",
      "269509  134855      Zhu Renxue   M  25.0   170.0    50.0  China  2016   \n",
      "269510  134856     Zhu Ronghua   M  30.0   170.0    65.0  China  2004   \n",
      "269511  134857        Zhu Ting   F  21.0   198.0    78.0  China  2016   \n",
      "269512  134858        Zhu Ting   M  23.0   181.0    74.0  China  2008   \n",
      "269513  134859      Zhu Weiwei   F  22.0   180.0    70.0  China  2012   \n",
      "269515  134860      Zhu Wenxin   M  28.0   176.0    72.0  China  2008   \n",
      "269516  134861     Zhu Xiaolin   F  24.0   168.0    50.0  China  2008   \n",
      "269518  134862      Zhu Yanmei   F  21.0   176.0    60.0  China  2008   \n",
      "269519  134863          Zhu Yi   M  22.0   177.0    85.0  China  2000   \n",
      "269522  134864     Zhu Yingwen   F  22.0   173.0    67.0  China  2004   \n",
      "269529  134865    Zhu Yongbiao   M  28.0   175.0    68.0  China  2004   \n",
      "269531  134867     Zhu Yunying   F  22.0   175.0    64.0  China  2000   \n",
      "269532  134868      Zhu Yuqing   F  29.0   180.0    68.0  China  1992   \n",
      "269534  134869    Zhu Zhengjun   M  20.0   186.0    74.0  China  1992   \n",
      "269536  134870       Zhu Zhifu   M  25.0   179.0    72.0  China  2004   \n",
      "269541  134872  Zhuang Xiaoyan   F  23.0   173.0    98.0  China  1992   \n",
      "269542  134873     Zhuang Yong   F  16.0   172.0    68.0  China  1988   \n",
      "270331  135230  Zong Xiangqing   M  24.0   193.0    72.0  China  1984   \n",
      "270430  135269         Zou Kai   M  20.0   158.0    55.0  China  2008   \n",
      "270438  135270     Zou Shiming   M  23.0   165.0    49.0  China  2004   \n",
      "270441  135271       Zou Sixin   M  25.0   178.0    76.0  China  1992   \n",
      "270444  135273      Zou Yuchen   M  20.0   203.0   107.0  China  2016   \n",
      "270445  135274    Zou Zhenxian   M  28.0   184.0    72.0  China  1984   \n",
      "270559  135318        Zu Lijun   M  26.0   188.0    87.0  China  2016   \n",
      "270822  135445         Zuo Yue   M  21.0   192.0    88.0  China  1984   \n",
      "\n",
      "                            Sport  \n",
      "0                      Basketball  \n",
      "1                            Judo  \n",
      "1072                       Boxing  \n",
      "2611                    Wrestling  \n",
      "2612                     Swimming  \n",
      "6427                Speed Skating  \n",
      "6433    Short Track Speed Skating  \n",
      "6437                     Softball  \n",
      "8423                       Hockey  \n",
      "8425                         Judo  \n",
      "11685                     Curling  \n",
      "11690                  Basketball  \n",
      "11691                   Wrestling  \n",
      "11692                     Archery  \n",
      "12568                    Swimming  \n",
      "12569                      Boxing  \n",
      "12570                   Triathlon  \n",
      "12573                    Football  \n",
      "12575                    Football  \n",
      "12576         Rhythmic Gymnastics  \n",
      "12577               Speed Skating  \n",
      "12579                   Athletics  \n",
      "14073                   Badminton  \n",
      "14075                    Football  \n",
      "14076                     Fencing  \n",
      "14078         Rhythmic Gymnastics  \n",
      "21256                   Wrestling  \n",
      "21257                  Gymnastics  \n",
      "21262                    Football  \n",
      "21264                   Athletics  \n",
      "...                           ...  \n",
      "269493                    Fencing  \n",
      "269494                    Fencing  \n",
      "269495                   Swimming  \n",
      "269499                   Shooting  \n",
      "269505                    Fencing  \n",
      "269509                  Athletics  \n",
      "269510                  Athletics  \n",
      "269511                 Volleyball  \n",
      "269512                   Football  \n",
      "269513                     Rowing  \n",
      "269515                   Handball  \n",
      "269516                  Athletics  \n",
      "269518                  Athletics  \n",
      "269519                   Swimming  \n",
      "269522                   Swimming  \n",
      "269529                    Cycling  \n",
      "269531                 Volleyball  \n",
      "269532                  Athletics  \n",
      "269534                    Cycling  \n",
      "269536                     Rowing  \n",
      "269541                       Judo  \n",
      "269542                   Swimming  \n",
      "270331                    Fencing  \n",
      "270430                 Gymnastics  \n",
      "270438                     Boxing  \n",
      "270441                  Athletics  \n",
      "270444                 Basketball  \n",
      "270445                  Athletics  \n",
      "270559                   Swimming  \n",
      "270822                 Volleyball  \n",
      "\n",
      "[2432 rows x 9 columns]\n"
     ]
    }
   ],
   "source": [
    "print(olympian_data)"
   ]
  },
  {
   "cell_type": "code",
   "execution_count": 70,
   "metadata": {},
   "outputs": [],
   "source": [
    "# Call the drop_duplicates() method,\n",
    "# passing in a list of columns in which you want to remove duplicates\n",
    "olympian_data = olympian_data.drop_duplicates(subset=['Name', 'Sport'])"
   ]
  },
  {
   "cell_type": "markdown",
   "metadata": {},
   "source": [
    "Next, we want to remove any rows without data using the `dropna()` method."
   ]
  },
  {
   "cell_type": "code",
   "execution_count": 77,
   "metadata": {},
   "outputs": [],
   "source": [
    "# Remove rows with missing values using the dropna() method\n",
    "olympian_data.dropna(inplace=True)"
   ]
  },
  {
   "cell_type": "markdown",
   "metadata": {},
   "source": [
    "Next, slice by sport: \n",
    "```\n",
    "[olympian_data['Team'] == 'China']\n",
    "```"
   ]
  },
  {
   "cell_type": "code",
   "execution_count": 56,
   "metadata": {},
   "outputs": [
    {
     "data": {
      "text/plain": [
       "['Alpine Skiing',\n",
       " 'Archery',\n",
       " 'Athletics',\n",
       " 'Badminton',\n",
       " 'Baseball',\n",
       " 'Basketball',\n",
       " 'Beach Volleyball',\n",
       " 'Biathlon',\n",
       " 'Boxing',\n",
       " 'Canoeing',\n",
       " 'Cross Country Skiing',\n",
       " 'Curling',\n",
       " 'Cycling',\n",
       " 'Diving',\n",
       " 'Equestrianism',\n",
       " 'Fencing',\n",
       " 'Figure Skating',\n",
       " 'Football',\n",
       " 'Freestyle Skiing',\n",
       " 'Golf',\n",
       " 'Gymnastics',\n",
       " 'Handball',\n",
       " 'Hockey',\n",
       " 'Ice Hockey',\n",
       " 'Judo',\n",
       " 'Modern Pentathlon',\n",
       " 'Rhythmic Gymnastics',\n",
       " 'Rowing',\n",
       " 'Sailing',\n",
       " 'Shooting',\n",
       " 'Short Track Speed Skating',\n",
       " 'Ski Jumping',\n",
       " 'Snowboarding',\n",
       " 'Softball',\n",
       " 'Speed Skating',\n",
       " 'Swimming',\n",
       " 'Synchronized Swimming',\n",
       " 'Table Tennis',\n",
       " 'Taekwondo',\n",
       " 'Tennis',\n",
       " 'Trampolining',\n",
       " 'Triathlon',\n",
       " 'Volleyball',\n",
       " 'Water Polo',\n",
       " 'Weightlifting',\n",
       " 'Wrestling']"
      ]
     },
     "execution_count": 56,
     "metadata": {},
     "output_type": "execute_result"
    }
   ],
   "source": [
    "sorted(olympian_data['Sport'].unique())"
   ]
  },
  {
   "cell_type": "code",
   "execution_count": 57,
   "metadata": {},
   "outputs": [],
   "source": [
    "two_sports = olympian_data[((olympian_data['Sport'] == 'Basketball') \n",
    "                            & (olympian_data['Sex'] == 'M')) | \n",
    "                           ((olympian_data['Sport'] == 'Gymnastics') \n",
    "                            & (olympian_data['Sex'] == 'F'))]"
   ]
  },
  {
   "cell_type": "code",
   "execution_count": 58,
   "metadata": {},
   "outputs": [
    {
     "data": {
      "text/plain": [
       "ID        112\n",
       "Name      112\n",
       "Sex       112\n",
       "Age       112\n",
       "Height    112\n",
       "Weight    112\n",
       "Team      112\n",
       "Year      112\n",
       "Sport     112\n",
       "dtype: int64"
      ]
     },
     "execution_count": 58,
     "metadata": {},
     "output_type": "execute_result"
    }
   ],
   "source": [
    "two_sports.count()"
   ]
  },
  {
   "cell_type": "code",
   "execution_count": 59,
   "metadata": {},
   "outputs": [],
   "source": [
    "clustered_data = KMeans(\n",
    "    n_clusters=2\n",
    ").fit(\n",
    "    two_sports[['Height', 'Weight']]\n",
    ")"
   ]
  },
  {
   "cell_type": "code",
   "execution_count": 60,
   "metadata": {},
   "outputs": [
    {
     "data": {
      "text/plain": [
       "array([[198.87692308,  96.50769231],\n",
       "       [148.44680851,  38.76595745]])"
      ]
     },
     "execution_count": 60,
     "metadata": {},
     "output_type": "execute_result"
    }
   ],
   "source": [
    "clustered_data.cluster_centers_"
   ]
  },
  {
   "cell_type": "code",
   "execution_count": 61,
   "metadata": {},
   "outputs": [
    {
     "data": {
      "text/plain": [
       "array([0], dtype=int32)"
      ]
     },
     "execution_count": 61,
     "metadata": {},
     "output_type": "execute_result"
    }
   ],
   "source": [
    "# Predict yourself!\n",
    "clustered_data.predict([[160, 100]])"
   ]
  },
  {
   "cell_type": "code",
   "execution_count": 62,
   "metadata": {},
   "outputs": [
    {
     "name": "stderr",
     "output_type": "stream",
     "text": [
      "/anaconda3/envs/myenv/lib/python3.7/site-packages/ipykernel_launcher.py:1: SettingWithCopyWarning: \n",
      "A value is trying to be set on a copy of a slice from a DataFrame.\n",
      "Try using .loc[row_indexer,col_indexer] = value instead\n",
      "\n",
      "See the caveats in the documentation: http://pandas.pydata.org/pandas-docs/stable/indexing.html#indexing-view-versus-copy\n",
      "  \"\"\"Entry point for launching an IPython kernel.\n"
     ]
    }
   ],
   "source": [
    "two_sports['prediction'] = clustered_data.predict(two_sports[['Height', 'Weight']])"
   ]
  },
  {
   "cell_type": "code",
   "execution_count": 63,
   "metadata": {},
   "outputs": [
    {
     "data": {
      "text/html": [
       "<div>\n",
       "<style scoped>\n",
       "    .dataframe tbody tr th:only-of-type {\n",
       "        vertical-align: middle;\n",
       "    }\n",
       "\n",
       "    .dataframe tbody tr th {\n",
       "        vertical-align: top;\n",
       "    }\n",
       "\n",
       "    .dataframe thead th {\n",
       "        text-align: right;\n",
       "    }\n",
       "</style>\n",
       "<table border=\"1\" class=\"dataframe\">\n",
       "  <thead>\n",
       "    <tr style=\"text-align: right;\">\n",
       "      <th></th>\n",
       "      <th>ID</th>\n",
       "      <th>Name</th>\n",
       "      <th>Sex</th>\n",
       "      <th>Age</th>\n",
       "      <th>Height</th>\n",
       "      <th>Weight</th>\n",
       "      <th>Team</th>\n",
       "      <th>Year</th>\n",
       "      <th>Sport</th>\n",
       "      <th>prediction</th>\n",
       "    </tr>\n",
       "  </thead>\n",
       "  <tbody>\n",
       "    <tr>\n",
       "      <th>0</th>\n",
       "      <td>1</td>\n",
       "      <td>A Dijiang</td>\n",
       "      <td>M</td>\n",
       "      <td>24.0</td>\n",
       "      <td>180.0</td>\n",
       "      <td>80.0</td>\n",
       "      <td>China</td>\n",
       "      <td>1992</td>\n",
       "      <td>Basketball</td>\n",
       "      <td>0</td>\n",
       "    </tr>\n",
       "    <tr>\n",
       "      <th>21257</th>\n",
       "      <td>11223</td>\n",
       "      <td>Bi Wenjing</td>\n",
       "      <td>F</td>\n",
       "      <td>14.0</td>\n",
       "      <td>142.0</td>\n",
       "      <td>35.0</td>\n",
       "      <td>China</td>\n",
       "      <td>1996</td>\n",
       "      <td>Gymnastics</td>\n",
       "      <td>1</td>\n",
       "    </tr>\n",
       "    <tr>\n",
       "      <th>39237</th>\n",
       "      <td>20180</td>\n",
       "      <td>Chen Cuiting</td>\n",
       "      <td>F</td>\n",
       "      <td>17.0</td>\n",
       "      <td>143.0</td>\n",
       "      <td>36.0</td>\n",
       "      <td>China</td>\n",
       "      <td>1988</td>\n",
       "      <td>Gymnastics</td>\n",
       "      <td>1</td>\n",
       "    </tr>\n",
       "    <tr>\n",
       "      <th>39283</th>\n",
       "      <td>20211</td>\n",
       "      <td>Chen Jianghua</td>\n",
       "      <td>M</td>\n",
       "      <td>19.0</td>\n",
       "      <td>187.0</td>\n",
       "      <td>73.0</td>\n",
       "      <td>China</td>\n",
       "      <td>2008</td>\n",
       "      <td>Basketball</td>\n",
       "      <td>0</td>\n",
       "    </tr>\n",
       "    <tr>\n",
       "      <th>39311</th>\n",
       "      <td>20225</td>\n",
       "      <td>Chen Ke</td>\n",
       "      <td>M</td>\n",
       "      <td>25.0</td>\n",
       "      <td>204.0</td>\n",
       "      <td>104.0</td>\n",
       "      <td>China</td>\n",
       "      <td>2004</td>\n",
       "      <td>Basketball</td>\n",
       "      <td>0</td>\n",
       "    </tr>\n",
       "    <tr>\n",
       "      <th>39487</th>\n",
       "      <td>20319</td>\n",
       "      <td>Chen Yongyan</td>\n",
       "      <td>F</td>\n",
       "      <td>21.0</td>\n",
       "      <td>158.0</td>\n",
       "      <td>44.0</td>\n",
       "      <td>China</td>\n",
       "      <td>1984</td>\n",
       "      <td>Gymnastics</td>\n",
       "      <td>1</td>\n",
       "    </tr>\n",
       "    <tr>\n",
       "      <th>39576</th>\n",
       "      <td>20362</td>\n",
       "      <td>Cheng Fei</td>\n",
       "      <td>F</td>\n",
       "      <td>16.0</td>\n",
       "      <td>152.0</td>\n",
       "      <td>43.0</td>\n",
       "      <td>China</td>\n",
       "      <td>2004</td>\n",
       "      <td>Gymnastics</td>\n",
       "      <td>1</td>\n",
       "    </tr>\n",
       "    <tr>\n",
       "      <th>53750</th>\n",
       "      <td>27569</td>\n",
       "      <td>Deng Linlin</td>\n",
       "      <td>F</td>\n",
       "      <td>16.0</td>\n",
       "      <td>144.0</td>\n",
       "      <td>34.0</td>\n",
       "      <td>China</td>\n",
       "      <td>2008</td>\n",
       "      <td>Gymnastics</td>\n",
       "      <td>1</td>\n",
       "    </tr>\n",
       "    <tr>\n",
       "      <th>55921</th>\n",
       "      <td>28660</td>\n",
       "      <td>Ding Jinhui</td>\n",
       "      <td>M</td>\n",
       "      <td>22.0</td>\n",
       "      <td>204.0</td>\n",
       "      <td>100.0</td>\n",
       "      <td>China</td>\n",
       "      <td>2012</td>\n",
       "      <td>Basketball</td>\n",
       "      <td>0</td>\n",
       "    </tr>\n",
       "    <tr>\n",
       "      <th>55928</th>\n",
       "      <td>28664</td>\n",
       "      <td>Ding Yanyuhang</td>\n",
       "      <td>M</td>\n",
       "      <td>22.0</td>\n",
       "      <td>200.0</td>\n",
       "      <td>91.0</td>\n",
       "      <td>China</td>\n",
       "      <td>2016</td>\n",
       "      <td>Basketball</td>\n",
       "      <td>0</td>\n",
       "    </tr>\n",
       "    <tr>\n",
       "      <th>57339</th>\n",
       "      <td>29370</td>\n",
       "      <td>Dong Fangxiao</td>\n",
       "      <td>F</td>\n",
       "      <td>14.0</td>\n",
       "      <td>144.0</td>\n",
       "      <td>33.0</td>\n",
       "      <td>China</td>\n",
       "      <td>2000</td>\n",
       "      <td>Gymnastics</td>\n",
       "      <td>1</td>\n",
       "    </tr>\n",
       "    <tr>\n",
       "      <th>58964</th>\n",
       "      <td>30177</td>\n",
       "      <td>Du Feng</td>\n",
       "      <td>M</td>\n",
       "      <td>23.0</td>\n",
       "      <td>207.0</td>\n",
       "      <td>92.0</td>\n",
       "      <td>China</td>\n",
       "      <td>2004</td>\n",
       "      <td>Basketball</td>\n",
       "      <td>0</td>\n",
       "    </tr>\n",
       "    <tr>\n",
       "      <th>66352</th>\n",
       "      <td>33946</td>\n",
       "      <td>Fan Di</td>\n",
       "      <td>F</td>\n",
       "      <td>15.0</td>\n",
       "      <td>144.0</td>\n",
       "      <td>35.0</td>\n",
       "      <td>China</td>\n",
       "      <td>1988</td>\n",
       "      <td>Gymnastics</td>\n",
       "      <td>1</td>\n",
       "    </tr>\n",
       "    <tr>\n",
       "      <th>66368</th>\n",
       "      <td>33951</td>\n",
       "      <td>Fan Ye</td>\n",
       "      <td>F</td>\n",
       "      <td>27.0</td>\n",
       "      <td>176.0</td>\n",
       "      <td>72.0</td>\n",
       "      <td>China</td>\n",
       "      <td>2004</td>\n",
       "      <td>Gymnastics</td>\n",
       "      <td>0</td>\n",
       "    </tr>\n",
       "    <tr>\n",
       "      <th>66373</th>\n",
       "      <td>33952</td>\n",
       "      <td>Fan Yilin</td>\n",
       "      <td>F</td>\n",
       "      <td>16.0</td>\n",
       "      <td>148.0</td>\n",
       "      <td>37.0</td>\n",
       "      <td>China</td>\n",
       "      <td>2016</td>\n",
       "      <td>Gymnastics</td>\n",
       "      <td>1</td>\n",
       "    </tr>\n",
       "    <tr>\n",
       "      <th>81597</th>\n",
       "      <td>41421</td>\n",
       "      <td>Gong Luming</td>\n",
       "      <td>M</td>\n",
       "      <td>31.0</td>\n",
       "      <td>174.0</td>\n",
       "      <td>75.0</td>\n",
       "      <td>China</td>\n",
       "      <td>1988</td>\n",
       "      <td>Basketball</td>\n",
       "      <td>0</td>\n",
       "    </tr>\n",
       "    <tr>\n",
       "      <th>81602</th>\n",
       "      <td>41426</td>\n",
       "      <td>Gong Xiaobin</td>\n",
       "      <td>M</td>\n",
       "      <td>22.0</td>\n",
       "      <td>202.0</td>\n",
       "      <td>100.0</td>\n",
       "      <td>China</td>\n",
       "      <td>1992</td>\n",
       "      <td>Basketball</td>\n",
       "      <td>0</td>\n",
       "    </tr>\n",
       "    <tr>\n",
       "      <th>86661</th>\n",
       "      <td>43951</td>\n",
       "      <td>Guo Ailun</td>\n",
       "      <td>M</td>\n",
       "      <td>18.0</td>\n",
       "      <td>192.0</td>\n",
       "      <td>85.0</td>\n",
       "      <td>China</td>\n",
       "      <td>2012</td>\n",
       "      <td>Basketball</td>\n",
       "      <td>0</td>\n",
       "    </tr>\n",
       "    <tr>\n",
       "      <th>86714</th>\n",
       "      <td>43976</td>\n",
       "      <td>Guo Shiqiang</td>\n",
       "      <td>M</td>\n",
       "      <td>25.0</td>\n",
       "      <td>192.0</td>\n",
       "      <td>80.0</td>\n",
       "      <td>China</td>\n",
       "      <td>2000</td>\n",
       "      <td>Basketball</td>\n",
       "      <td>0</td>\n",
       "    </tr>\n",
       "    <tr>\n",
       "      <th>92621</th>\n",
       "      <td>46931</td>\n",
       "      <td>He Kexin</td>\n",
       "      <td>F</td>\n",
       "      <td>16.0</td>\n",
       "      <td>142.0</td>\n",
       "      <td>33.0</td>\n",
       "      <td>China</td>\n",
       "      <td>2008</td>\n",
       "      <td>Gymnastics</td>\n",
       "      <td>1</td>\n",
       "    </tr>\n",
       "  </tbody>\n",
       "</table>\n",
       "</div>"
      ],
      "text/plain": [
       "          ID            Name Sex   Age  Height  Weight   Team  Year  \\\n",
       "0          1       A Dijiang   M  24.0   180.0    80.0  China  1992   \n",
       "21257  11223      Bi Wenjing   F  14.0   142.0    35.0  China  1996   \n",
       "39237  20180    Chen Cuiting   F  17.0   143.0    36.0  China  1988   \n",
       "39283  20211   Chen Jianghua   M  19.0   187.0    73.0  China  2008   \n",
       "39311  20225         Chen Ke   M  25.0   204.0   104.0  China  2004   \n",
       "39487  20319    Chen Yongyan   F  21.0   158.0    44.0  China  1984   \n",
       "39576  20362       Cheng Fei   F  16.0   152.0    43.0  China  2004   \n",
       "53750  27569     Deng Linlin   F  16.0   144.0    34.0  China  2008   \n",
       "55921  28660     Ding Jinhui   M  22.0   204.0   100.0  China  2012   \n",
       "55928  28664  Ding Yanyuhang   M  22.0   200.0    91.0  China  2016   \n",
       "57339  29370   Dong Fangxiao   F  14.0   144.0    33.0  China  2000   \n",
       "58964  30177         Du Feng   M  23.0   207.0    92.0  China  2004   \n",
       "66352  33946          Fan Di   F  15.0   144.0    35.0  China  1988   \n",
       "66368  33951          Fan Ye   F  27.0   176.0    72.0  China  2004   \n",
       "66373  33952       Fan Yilin   F  16.0   148.0    37.0  China  2016   \n",
       "81597  41421     Gong Luming   M  31.0   174.0    75.0  China  1988   \n",
       "81602  41426    Gong Xiaobin   M  22.0   202.0   100.0  China  1992   \n",
       "86661  43951       Guo Ailun   M  18.0   192.0    85.0  China  2012   \n",
       "86714  43976    Guo Shiqiang   M  25.0   192.0    80.0  China  2000   \n",
       "92621  46931        He Kexin   F  16.0   142.0    33.0  China  2008   \n",
       "\n",
       "            Sport  prediction  \n",
       "0      Basketball           0  \n",
       "21257  Gymnastics           1  \n",
       "39237  Gymnastics           1  \n",
       "39283  Basketball           0  \n",
       "39311  Basketball           0  \n",
       "39487  Gymnastics           1  \n",
       "39576  Gymnastics           1  \n",
       "53750  Gymnastics           1  \n",
       "55921  Basketball           0  \n",
       "55928  Basketball           0  \n",
       "57339  Gymnastics           1  \n",
       "58964  Basketball           0  \n",
       "66352  Gymnastics           1  \n",
       "66368  Gymnastics           0  \n",
       "66373  Gymnastics           1  \n",
       "81597  Basketball           0  \n",
       "81602  Basketball           0  \n",
       "86661  Basketball           0  \n",
       "86714  Basketball           0  \n",
       "92621  Gymnastics           1  "
      ]
     },
     "execution_count": 63,
     "metadata": {},
     "output_type": "execute_result"
    }
   ],
   "source": [
    "two_sports.head(20)\n"
   ]
  },
  {
   "cell_type": "code",
   "execution_count": 64,
   "metadata": {},
   "outputs": [
    {
     "data": {
      "text/html": [
       "<div>\n",
       "<style scoped>\n",
       "    .dataframe tbody tr th:only-of-type {\n",
       "        vertical-align: middle;\n",
       "    }\n",
       "\n",
       "    .dataframe tbody tr th {\n",
       "        vertical-align: top;\n",
       "    }\n",
       "\n",
       "    .dataframe thead th {\n",
       "        text-align: right;\n",
       "    }\n",
       "</style>\n",
       "<table border=\"1\" class=\"dataframe\">\n",
       "  <thead>\n",
       "    <tr style=\"text-align: right;\">\n",
       "      <th></th>\n",
       "      <th>ID</th>\n",
       "      <th>Age</th>\n",
       "      <th>Height</th>\n",
       "      <th>Weight</th>\n",
       "      <th>Year</th>\n",
       "      <th>prediction</th>\n",
       "    </tr>\n",
       "    <tr>\n",
       "      <th>Sport</th>\n",
       "      <th></th>\n",
       "      <th></th>\n",
       "      <th></th>\n",
       "      <th></th>\n",
       "      <th></th>\n",
       "      <th></th>\n",
       "    </tr>\n",
       "  </thead>\n",
       "  <tbody>\n",
       "    <tr>\n",
       "      <th>Basketball</th>\n",
       "      <td>94954.640625</td>\n",
       "      <td>23.203125</td>\n",
       "      <td>199.234375</td>\n",
       "      <td>96.890625</td>\n",
       "      <td>1998.625000</td>\n",
       "      <td>0.000000</td>\n",
       "    </tr>\n",
       "    <tr>\n",
       "      <th>Gymnastics</th>\n",
       "      <td>80676.833333</td>\n",
       "      <td>17.041667</td>\n",
       "      <td>149.020833</td>\n",
       "      <td>39.458333</td>\n",
       "      <td>1998.666667</td>\n",
       "      <td>0.979167</td>\n",
       "    </tr>\n",
       "  </tbody>\n",
       "</table>\n",
       "</div>"
      ],
      "text/plain": [
       "                      ID        Age      Height     Weight         Year  \\\n",
       "Sport                                                                     \n",
       "Basketball  94954.640625  23.203125  199.234375  96.890625  1998.625000   \n",
       "Gymnastics  80676.833333  17.041667  149.020833  39.458333  1998.666667   \n",
       "\n",
       "            prediction  \n",
       "Sport                   \n",
       "Basketball    0.000000  \n",
       "Gymnastics    0.979167  "
      ]
     },
     "execution_count": 64,
     "metadata": {},
     "output_type": "execute_result"
    }
   ],
   "source": [
    "two_sports.groupby('Sport').mean()"
   ]
  },
  {
   "cell_type": "code",
   "execution_count": 65,
   "metadata": {},
   "outputs": [
    {
     "data": {
      "text/plain": [
       "Text(0.5, 1.0, 'after kmean clustering - prediction')"
      ]
     },
     "execution_count": 65,
     "metadata": {},
     "output_type": "execute_result"
    },
    {
     "data": {
      "image/png": "[encoded data removed]",
      "text/plain": [
       "<Figure size 418.375x360 with 1 Axes>"
      ]
     },
     "metadata": {
      "needs_background": "light"
     },
     "output_type": "display_data"
    }
   ],
   "source": [
    "seaborn.lmplot('Height', 'Weight', data=two_sports[['Height', 'Weight', 'prediction']], fit_reg=False,  # x-axis, y-axis, data, no line\n",
    "           scatter_kws={\"s\": 1}, # marker size\n",
    "           hue=\"prediction\") # color\n",
    "\n",
    "# title\n",
    "plt.title('after kmean clustering - prediction')"
   ]
  },
  {
   "cell_type": "code",
   "execution_count": 66,
   "metadata": {},
   "outputs": [
    {
     "data": {
      "text/plain": [
       "Text(0.5, 1.0, 'after kmean clustering - actual data')"
      ]
     },
     "execution_count": 66,
     "metadata": {},
     "output_type": "execute_result"
    },
    {
     "data": {
      "image/png": "[encoded data removed]",
      "text/plain": [
       "<Figure size 454.5x360 with 1 Axes>"
      ]
     },
     "metadata": {
      "needs_background": "light"
     },
     "output_type": "display_data"
    }
   ],
   "source": [
    "seaborn.lmplot('Height', 'Weight', data=two_sports[['Height', 'Weight', 'Sport']], fit_reg=False,  # x-axis, y-axis, data, no line\n",
    "           scatter_kws={\"s\": 1}, # marker size\n",
    "           hue=\"Sport\") # color\n",
    "\n",
    "# title\n",
    "plt.title('after kmean clustering - actual data')"
   ]
  }
 ],
 "metadata": {
  "kernelspec": {
   "display_name": "Python 3",
   "language": "python",
   "name": "python3"
  },
  "language_info": {
   "codemirror_mode": {
    "name": "ipython",
    "version": 3
   },
   "file_extension": ".py",
   "mimetype": "text/x-python",
   "name": "python",
   "nbconvert_exporter": "python",
   "pygments_lexer": "ipython3",
   "version": "3.7.1"
  }
 },
 "nbformat": 4,
 "nbformat_minor": 2
}
