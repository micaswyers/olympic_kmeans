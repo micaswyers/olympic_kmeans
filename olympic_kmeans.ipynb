{
 "cells": [
  {
   "cell_type": "markdown",
   "metadata": {},
   "source": [
    "# K-Means Clustering with Python\n",
    "\n",
    "## Objectives\n",
    "After this workshop, you will be able to:\n",
    "* describe the k-means clustering algorithm\n",
    "* understand the limits of k-means clustering\n",
    "* edit and execute cells in a Jupyter notebook\n",
    "* use a pandas DataFrame object\n",
    "* find which Olympic event you're best suited for!\n",
    "\n",
    "## Chapter 0: What does *k-means* mean?\n",
    "\n",
    "K-means is a clustering algorithm to divide groups of data into *k* number of clusters. It is unsupervised learning, so the clustering happens on unlabeled, unclassified data without any guidance.\n",
    "\n",
    "The steps are:\n",
    "1. Initialize *k* cluster centers (\"centroids\") within the parameters of the data\n",
    "2. Assign each datapoint to its closest centroid, usually by [Euclidean distance](https://en.wikipedia.org/wiki/Euclidean_distance).\n",
    "3. Update the location of each cluster's centroid.\n",
    "4. Repeat steps 2 & 3 until the clusters don't change.\n",
    "\n",
    "![K-Means Clustering](static/kmeans.gif)\n",
    "\n",
    "\n",
    "### When should I use k-means?\n",
    "\n",
    "K-means clustering works well on data sets with points that are distinct or well-separated from each other in a linear fashion. For picking the number of centroids, it is useful to pick a *k* value that is well-defined in the data already.\n",
    "\n",
    "Datasets that have a lot of overlap, outliers, and noise do not lend themselves well to k-means clustering.\n",
    "\n",
    "<!-- Also talk about local minima -->"
   ]
  },
  {
   "cell_type": "markdown",
   "metadata": {},
   "source": [
    "### 120 years of Olympic history!\n",
    "For this workshop, we'll be working with Olympic athlete statistics because:\n",
    "1. We can easily separate two dimensions (height and weight). There's no need for \"dimensionality reduction\" (combining multiple features into N dimensions).\n",
    "2. Based on those two features, the data separates easily into distinct groups.\n",
    "3. The Olympics are really exciting!"
   ]
  },
  {
   "cell_type": "markdown",
   "metadata": {},
   "source": [
    "## Chapter 1: Let's import our tools!\n",
    "Here are some of the libraries we'll be working with:\n",
    "* `pandas` to store and manipulate the DataFrame objects\n",
    "* `scikit-learn.cluster.KMeans` method\n",
    "* `matplotlib.pyplot` for creating a plot\n",
    "* `seaborn` for making the plot look less ugly\n",
    "\n",
    "Import those below:"
   ]
  },
  {
   "cell_type": "code",
   "execution_count": null,
   "metadata": {},
   "outputs": [],
   "source": [
    "# Imports go here\n",
    "import matplotlib.pyplot as plt\n",
    "import numpy\n",
    "import pandas as pd\n",
    "import seaborn as seaborn\n",
    "from sklearn.cluster import KMeans"
   ]
  },
  {
   "cell_type": "markdown",
   "metadata": {},
   "source": [
    "## Chapter 2: What is this DataFrame thing?"
   ]
  },
  {
   "cell_type": "code",
   "execution_count": null,
   "metadata": {},
   "outputs": [],
   "source": [
    "# Create a pandas DataFrame object from a CSV of Olympian data\n",
    "olympian_data = pd.read_csv(\n",
    "    'data/athlete_events.csv',\n",
    "    usecols=[\n",
    "        'Name',\n",
    "        'Sex',\n",
    "        'Height',\n",
    "        'Weight',\n",
    "        'Sport',\n",
    "        'Team',\n",
    "    ],\n",
    ")"
   ]
  },
  {
   "cell_type": "markdown",
   "metadata": {},
   "source": [
    "Above, we have imported our Olympian data in our CSV file into a data structure called a pandas [DataFrame](https://pandas.pydata.org/pandas-docs/stable/generated/pandas.DataFrame.html). Pandas is a popular library for data science. You can think of a DataFrame as a spreadsheet: it organizes the data into rows and columns for sorting, slicing, and filtering.\n",
    "\n",
    "Try running the `head()` method on our dataframe below:"
   ]
  },
  {
   "cell_type": "code",
   "execution_count": null,
   "metadata": {},
   "outputs": [],
   "source": [
    "# By default, will return the first 5 rows\n",
    "olympian_data.head()"
   ]
  },
  {
   "cell_type": "markdown",
   "metadata": {},
   "source": [
    "We can also use `describe()` to see some statistics about our DataFrame values:"
   ]
  },
  {
   "cell_type": "code",
   "execution_count": null,
   "metadata": {},
   "outputs": [],
   "source": [
    "# How about describing our data?\n",
    "olympian_data.describe()"
   ]
  },
  {
   "cell_type": "markdown",
   "metadata": {},
   "source": [
    "### Chapter 2a: Cleaning up our DataFrame\n",
    "\n",
    "We need to clean up our data a bit. Let's start by dropping duplicates with the `drop_duplicates()` method. We will want to remove any duplicates we find in the `Name` and `Sport` column because some athletes competed in multiple events and/or sports."
   ]
  },
  {
   "cell_type": "code",
   "execution_count": null,
   "metadata": {},
   "outputs": [],
   "source": [
    "# Pass in a list of columns where you want to remove duplicate values\n",
    "olympian_data = olympian_data.drop_duplicates(subset=['Name', 'Sport'])"
   ]
  },
  {
   "cell_type": "markdown",
   "metadata": {},
   "source": [
    "Next, we want to remove any row missing data using the `dropna()` method."
   ]
  },
  {
   "cell_type": "code",
   "execution_count": null,
   "metadata": {},
   "outputs": [],
   "source": [
    "# Remove rows with missing values using the dropna() method\n",
    "olympian_data.dropna(inplace=True)"
   ]
  },
  {
   "cell_type": "markdown",
   "metadata": {},
   "source": [
    "### Chapter 2b: Slicing our data\n",
    "\n",
    "Our data is clean! Now, it's time to start slicing and filtering our data before we cluster it using the k-means algorithm.\n",
    "\n",
    "We're going to want to cluster by two sports (k=2), so first, let's take a look at all the sports we have in our `Sport` column of the DataFrame.\n",
    "\n",
    "There are two ways to slice a DataFrame by its column:\n",
    "* Dot notation: `olympian_data.Sport`\n",
    "* Bracket notation: `olympian_data['Sport']`"
   ]
  },
  {
   "cell_type": "code",
   "execution_count": null,
   "metadata": {},
   "outputs": [],
   "source": [
    "# Try sorting the data and calling `.unique()`\n",
    "sorted(olympian_data.Sport.unique())"
   ]
  },
  {
   "cell_type": "markdown",
   "metadata": {},
   "source": [
    "For maximal clustering, let's filter out two sports where the athletes might diverge greatly by height and weight. How about Basketball and Gymnastics? What if we separated by Men's and Women's teams as well?"
   ]
  },
  {
   "cell_type": "code",
   "execution_count": null,
   "metadata": {},
   "outputs": [],
   "source": [
    "two_sports = olympian_data[((olympian_data.Sport == 'Basketball') \n",
    "                            & (olympian_data.Sex == 'M')) | \n",
    "                           ((olympian_data.Sport == 'Gymnastics') \n",
    "                            & (olympian_data.Sex == 'F'))]"
   ]
  },
  {
   "cell_type": "markdown",
   "metadata": {},
   "source": [
    "## Chapter 3: Clustering!\n",
    "\n",
    "Now that we have data that should filter into two groups (Men's Basketball and Women's Gymnastics), it's time to cluster. We are using scikit-learn's `KMeans` method to create a KMeans model. We need to pass in an `n_clusters` argument to tell it how many centroids to cluster around.\n",
    "\n",
    "We want to call the `fit()` method passing in the DataFrame columns that we want the clustering algorithm to use, in this case: `Weight` and `Height`."
   ]
  },
  {
   "cell_type": "code",
   "execution_count": null,
   "metadata": {},
   "outputs": [],
   "source": [
    "kmeans_model = KMeans(\n",
    "    n_clusters=2\n",
    ").fit(\n",
    "    two_sports[['Weight', 'Height']]\n",
    ")"
   ]
  },
  {
   "cell_type": "markdown",
   "metadata": {},
   "source": [
    "Recall that part of the k-means algorithm involves updating the location of the centroids until none of the data points change cluster. Let's see how many iterations it took to find the final centroids with the `n_iter_` attribute:"
   ]
  },
  {
   "cell_type": "code",
   "execution_count": null,
   "metadata": {},
   "outputs": [],
   "source": [
    "kmeans_model.n_iter_"
   ]
  },
  {
   "cell_type": "markdown",
   "metadata": {},
   "source": [
    "We can also look at the coordinates of the two cluster centroids at the end of the algorithm's run with the `cluster_centers_` attribute:"
   ]
  },
  {
   "cell_type": "code",
   "execution_count": null,
   "metadata": {},
   "outputs": [],
   "source": [
    "kmeans_model.cluster_centers_"
   ]
  },
  {
   "cell_type": "markdown",
   "metadata": {},
   "source": [
    "It's important to note that the KMeans algorithm just clustered our data based on the two columns of data (`Weight` and `Height`). It has no concept of which `Sport` each athlete competed in.\n",
    "\n",
    "Let's add a column to our `two_sports` DataFrame that will show which cluster each athlete should be assigned to. This is the output of the `KMeans` class's `predict()` method."
   ]
  },
  {
   "cell_type": "code",
   "execution_count": null,
   "metadata": {},
   "outputs": [],
   "source": [
    "predictions = kmeans_model.predict(two_sports[['Weight', 'Height']])\n",
    "two_sports = two_sports.assign(Prediction=predictions)"
   ]
  },
  {
   "cell_type": "markdown",
   "metadata": {},
   "source": [
    "Now that we've added this extra column, we can look at a few of the rows to see where each athlete is predicted to fall. We could do this with `head()` like we did we above, but let's try slicing the DataFrame with `iloc`."
   ]
  },
  {
   "cell_type": "code",
   "execution_count": null,
   "metadata": {},
   "outputs": [],
   "source": [
    "two_sports.iloc[10:30]"
   ]
  },
  {
   "cell_type": "markdown",
   "metadata": {},
   "source": [
    "## Chapter 4: Let's plot!\n",
    "We'll be using `seaborn` and `matplotlib` to plot our data. First, let's graph our actual data, coloring the datapoints by their sport. As you can see, there are two distinct groups: Men's Basketball athletes and Women's Gymnastics athletes."
   ]
  },
  {
   "cell_type": "code",
   "execution_count": null,
   "metadata": {},
   "outputs": [],
   "source": [
    "seaborn.scatterplot(\n",
    "    'Weight',\n",
    "    'Height',\n",
    "    data=two_sports[['Weight', 'Height', 'Sport']],\n",
    "    hue=\"Sport\",\n",
    ")\n",
    "# title\n",
    "plt.title('Athletes, grouped by Sport')"
   ]
  },
  {
   "cell_type": "markdown",
   "metadata": {},
   "source": [
    "Finally, let's plot our data using the `prediction` column that we added earlier. Instead of coloring the plots by Sport, we will color by which cluster the k-means algorithm predicts they will fall into.\n",
    "\n",
    "Compare the resulting plot to the one above. How similar are the k-means clusters to the actual sports data?"
   ]
  },
  {
   "cell_type": "code",
   "execution_count": null,
   "metadata": {},
   "outputs": [],
   "source": [
    "seaborn.scatterplot(\n",
    "    'Weight',\n",
    "    'Height',\n",
    "    data=two_sports[['Weight', 'Height', 'Prediction']],\n",
    "    hue=\"Prediction\"\n",
    ")\n",
    "# title\n",
    "plt.title('Athletes in predicted clusters')"
   ]
  },
  {
   "cell_type": "markdown",
   "metadata": {},
   "source": [
    "## Chapter 5: Go to the Olympics and beyond\n",
    "\n",
    "Every two years, I watch the Olympics and decide that I am destined for athletic glory. Maybe you do too! \n",
    "\n",
    "We've seen that the k-means algorithm did a *pretty* good job at clustering athletes accurately based on their height and weight. Use the `predict()` method on our `kmeans_model` object from above and enter in your own weight in kg and height in cm. "
   ]
  },
  {
   "cell_type": "code",
   "execution_count": null,
   "metadata": {},
   "outputs": [],
   "source": [
    "# Substitute your own weight (in kg) and height (in cm) to predict which cluster you fall into.\n",
    "kmeans_model.predict([[68, 160]])"
   ]
  },
  {
   "cell_type": "markdown",
   "metadata": {},
   "source": [
    "Which cluster did it output for your given statistics? Are you more likely to be a gymnast or a basketball player?\n",
    "\n",
    "**For fun**: Text me at MY_NUMBER to tell me which sport you're more likely to compete in!\n",
    "\n",
    "You've just learned about k-means clustering and scratched the surface of data science tools like pandas and Jupyter Notebooks. Here are some ideas to play around with the data:\n",
    "* Filter the data by Team before running the algorithm.\n",
    "* Try filtering the data with more than two sports and changing the *k* value accordingly.\n",
    "* Remove the filter by Sex. Does the data cluster more or less cleanly now? Why?"
   ]
  }
 ],
 "metadata": {
  "kernelspec": {
   "display_name": "Python 3",
   "language": "python",
   "name": "python3"
  },
  "language_info": {
   "codemirror_mode": {
    "name": "ipython",
    "version": 3
   },
   "file_extension": ".py",
   "mimetype": "text/x-python",
   "name": "python",
   "nbconvert_exporter": "python",
   "pygments_lexer": "ipython3",
   "version": "3.7.1"
  }
 },
 "nbformat": 4,
 "nbformat_minor": 2
}
