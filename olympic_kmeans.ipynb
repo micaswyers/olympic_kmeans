{
 "cells": [
  {
   "cell_type": "markdown",
   "metadata": {},
   "source": [
    "# K-Means Clustering with Python\n",
    "\n",
    "## Objectives\n",
    "After this workshop, you will be able to:\n",
    "* describe the k-means clustering algorithm\n",
    "* understand the limits of k-means clustering\n",
    "* edit and execute cells in a Jupyter notebook\n",
    "* use a pandas DataFrame object\n",
    "* find which Olympic event you're best suited for!\n",
    "\n",
    "## Chapter 0: What does *k-means* mean?\n",
    "\n",
    "K-means is a clustering algorithm to divide groups of data into *k* number of clusters. It is unsupervised learning, so the clustering happens on unlabeled, unclassified data without any guidance.\n",
    "\n",
    "The steps are:\n",
    "1. Initialize *k* cluster centers (\"centroids\") within the parameters of the data\n",
    "2. Assign each datapoint to its closest centroid, usually by [Euclidean distance](https://en.wikipedia.org/wiki/Euclidean_distance).\n",
    "3. Update the location of each cluster's centroid.\n",
    "4. Repeat steps 2 & 3 until the clusters don't change.\n",
    "\n",
    "![K-Means Clustering](static/kmeans.gif)\n",
    "\n",
    "\n",
    "### When should I use k-means?\n",
    "\n",
    "K-means clustering works well on data sets with points that are distinct or well-separated from each other in a linear fashion. For picking the number of centroids, it is useful to pick a *k* value that is well-defined in the data already.\n",
    "\n",
    "Datasets that have a lot of overlap, outliers, and noise do not lend themselves well to k-means clustering.\n",
    "\n",
    "<!-- Also talk about local minima -->"
   ]
  },
  {
   "cell_type": "markdown",
   "metadata": {},
   "source": [
    "### 120 years of Olympic history!\n",
    "For this workshop, we'll be working with Olympic athlete statistics because:\n",
    "1. We can easily separate two dimensions (height and weight). There's no need for \"dimensionality reduction\" (combining multiple features into N dimensions).\n",
    "2. Based on those two features, the data separates easily into distinct groups.\n",
    "3. The Olympics are really exciting!"
   ]
  },
  {
   "cell_type": "markdown",
   "metadata": {},
   "source": [
    "## Chapter 1: Let's import our tools!\n",
    "Here are some of the libraries we'll be working with:\n",
    "* `pandas` to store and manipulate the DataFrame objects\n",
    "* `scikit-learn.cluster.KMeans` method\n",
    "* `matplotlib.pyplot` for creating a plot\n",
    "* `seaborn` for making the plot look less ugly\n",
    "\n",
    "Import those below:"
   ]
  },
  {
   "cell_type": "code",
   "execution_count": 18,
   "metadata": {},
   "outputs": [],
   "source": [
    "# Imports go here\n",
    "import matplotlib.pyplot as plt\n",
    "import numpy\n",
    "import pandas as pd\n",
    "import seaborn as seaborn\n",
    "from sklearn.cluster import KMeans"
   ]
  },
  {
   "cell_type": "markdown",
   "metadata": {},
   "source": [
    "## Chapter 2: What is this DataFrame thing?"
   ]
  },
  {
   "cell_type": "code",
   "execution_count": 19,
   "metadata": {},
   "outputs": [],
   "source": [
    "# Create a pandas DataFrame object from a CSV of Olympian data\n",
    "olympian_data = pd.read_csv(\n",
    "    'data/athlete_events.csv',\n",
    "    usecols=[\n",
    "        'Name',\n",
    "        'Sex',\n",
    "        'Height',\n",
    "        'Weight',\n",
    "        'Sport',\n",
    "        'Team',\n",
    "    ],\n",
    ")"
   ]
  },
  {
   "cell_type": "markdown",
   "metadata": {},
   "source": [
    "Above, we have imported our Olympian data in our CSV file into a data structure called a pandas [DataFrame](https://pandas.pydata.org/pandas-docs/stable/generated/pandas.DataFrame.html). Pandas is a popular library for data science. You can think of a DataFrame as a spreadsheet: it organizes the data into rows and columns for sorting, slicing, and filtering.\n",
    "\n",
    "Try running the `head()` method on our dataframe below:"
   ]
  },
  {
   "cell_type": "code",
   "execution_count": 20,
   "metadata": {},
   "outputs": [
    {
     "data": {
      "text/html": [
       "<div>\n",
       "<style scoped>\n",
       "    .dataframe tbody tr th:only-of-type {\n",
       "        vertical-align: middle;\n",
       "    }\n",
       "\n",
       "    .dataframe tbody tr th {\n",
       "        vertical-align: top;\n",
       "    }\n",
       "\n",
       "    .dataframe thead th {\n",
       "        text-align: right;\n",
       "    }\n",
       "</style>\n",
       "<table border=\"1\" class=\"dataframe\">\n",
       "  <thead>\n",
       "    <tr style=\"text-align: right;\">\n",
       "      <th></th>\n",
       "      <th>Name</th>\n",
       "      <th>Sex</th>\n",
       "      <th>Height</th>\n",
       "      <th>Weight</th>\n",
       "      <th>Team</th>\n",
       "      <th>Sport</th>\n",
       "    </tr>\n",
       "  </thead>\n",
       "  <tbody>\n",
       "    <tr>\n",
       "      <th>0</th>\n",
       "      <td>A Dijiang</td>\n",
       "      <td>M</td>\n",
       "      <td>180.0</td>\n",
       "      <td>80.0</td>\n",
       "      <td>China</td>\n",
       "      <td>Basketball</td>\n",
       "    </tr>\n",
       "    <tr>\n",
       "      <th>1</th>\n",
       "      <td>A Lamusi</td>\n",
       "      <td>M</td>\n",
       "      <td>170.0</td>\n",
       "      <td>60.0</td>\n",
       "      <td>China</td>\n",
       "      <td>Judo</td>\n",
       "    </tr>\n",
       "    <tr>\n",
       "      <th>2</th>\n",
       "      <td>Gunnar Nielsen Aaby</td>\n",
       "      <td>M</td>\n",
       "      <td>NaN</td>\n",
       "      <td>NaN</td>\n",
       "      <td>Denmark</td>\n",
       "      <td>Football</td>\n",
       "    </tr>\n",
       "    <tr>\n",
       "      <th>3</th>\n",
       "      <td>Edgar Lindenau Aabye</td>\n",
       "      <td>M</td>\n",
       "      <td>NaN</td>\n",
       "      <td>NaN</td>\n",
       "      <td>Denmark/Sweden</td>\n",
       "      <td>Tug-Of-War</td>\n",
       "    </tr>\n",
       "    <tr>\n",
       "      <th>4</th>\n",
       "      <td>Christine Jacoba Aaftink</td>\n",
       "      <td>F</td>\n",
       "      <td>185.0</td>\n",
       "      <td>82.0</td>\n",
       "      <td>Netherlands</td>\n",
       "      <td>Speed Skating</td>\n",
       "    </tr>\n",
       "  </tbody>\n",
       "</table>\n",
       "</div>"
      ],
      "text/plain": [
       "                       Name Sex  Height  Weight            Team          Sport\n",
       "0                 A Dijiang   M   180.0    80.0           China     Basketball\n",
       "1                  A Lamusi   M   170.0    60.0           China           Judo\n",
       "2       Gunnar Nielsen Aaby   M     NaN     NaN         Denmark       Football\n",
       "3      Edgar Lindenau Aabye   M     NaN     NaN  Denmark/Sweden     Tug-Of-War\n",
       "4  Christine Jacoba Aaftink   F   185.0    82.0     Netherlands  Speed Skating"
      ]
     },
     "execution_count": 20,
     "metadata": {},
     "output_type": "execute_result"
    }
   ],
   "source": [
    "# By default, will return the first 5 rows\n",
    "olympian_data.head()"
   ]
  },
  {
   "cell_type": "markdown",
   "metadata": {},
   "source": [
    "We can also use `describe()` to see some statistics about our DataFrame values:"
   ]
  },
  {
   "cell_type": "code",
   "execution_count": 21,
   "metadata": {},
   "outputs": [
    {
     "data": {
      "text/html": [
       "<div>\n",
       "<style scoped>\n",
       "    .dataframe tbody tr th:only-of-type {\n",
       "        vertical-align: middle;\n",
       "    }\n",
       "\n",
       "    .dataframe tbody tr th {\n",
       "        vertical-align: top;\n",
       "    }\n",
       "\n",
       "    .dataframe thead th {\n",
       "        text-align: right;\n",
       "    }\n",
       "</style>\n",
       "<table border=\"1\" class=\"dataframe\">\n",
       "  <thead>\n",
       "    <tr style=\"text-align: right;\">\n",
       "      <th></th>\n",
       "      <th>Height</th>\n",
       "      <th>Weight</th>\n",
       "    </tr>\n",
       "  </thead>\n",
       "  <tbody>\n",
       "    <tr>\n",
       "      <th>count</th>\n",
       "      <td>210945.000000</td>\n",
       "      <td>208241.000000</td>\n",
       "    </tr>\n",
       "    <tr>\n",
       "      <th>mean</th>\n",
       "      <td>175.338970</td>\n",
       "      <td>70.702393</td>\n",
       "    </tr>\n",
       "    <tr>\n",
       "      <th>std</th>\n",
       "      <td>10.518462</td>\n",
       "      <td>14.348020</td>\n",
       "    </tr>\n",
       "    <tr>\n",
       "      <th>min</th>\n",
       "      <td>127.000000</td>\n",
       "      <td>25.000000</td>\n",
       "    </tr>\n",
       "    <tr>\n",
       "      <th>25%</th>\n",
       "      <td>168.000000</td>\n",
       "      <td>60.000000</td>\n",
       "    </tr>\n",
       "    <tr>\n",
       "      <th>50%</th>\n",
       "      <td>175.000000</td>\n",
       "      <td>70.000000</td>\n",
       "    </tr>\n",
       "    <tr>\n",
       "      <th>75%</th>\n",
       "      <td>183.000000</td>\n",
       "      <td>79.000000</td>\n",
       "    </tr>\n",
       "    <tr>\n",
       "      <th>max</th>\n",
       "      <td>226.000000</td>\n",
       "      <td>214.000000</td>\n",
       "    </tr>\n",
       "  </tbody>\n",
       "</table>\n",
       "</div>"
      ],
      "text/plain": [
       "              Height         Weight\n",
       "count  210945.000000  208241.000000\n",
       "mean      175.338970      70.702393\n",
       "std        10.518462      14.348020\n",
       "min       127.000000      25.000000\n",
       "25%       168.000000      60.000000\n",
       "50%       175.000000      70.000000\n",
       "75%       183.000000      79.000000\n",
       "max       226.000000     214.000000"
      ]
     },
     "execution_count": 21,
     "metadata": {},
     "output_type": "execute_result"
    }
   ],
   "source": [
    "# How about describing our data?\n",
    "olympian_data.describe()"
   ]
  },
  {
   "cell_type": "markdown",
   "metadata": {},
   "source": [
    "### Chapter 2a: Cleaning up our DataFrame\n",
    "\n",
    "We need to clean up our data a bit. Let's start by dropping duplicates with the `drop_duplicates()` method. We will want to remove any duplicates we find in the `Name` and `Sport` column because some athletes competed in multiple events and/or sports."
   ]
  },
  {
   "cell_type": "code",
   "execution_count": 22,
   "metadata": {},
   "outputs": [],
   "source": [
    "# Pass in a list of columns where you want to remove duplicate values\n",
    "olympian_data = olympian_data.drop_duplicates(subset=['Name', 'Sport'])"
   ]
  },
  {
   "cell_type": "markdown",
   "metadata": {},
   "source": [
    "Next, we want to remove any row missing data using the `dropna()` method."
   ]
  },
  {
   "cell_type": "code",
   "execution_count": 23,
   "metadata": {},
   "outputs": [],
   "source": [
    "# Remove rows with missing values using the dropna() method\n",
    "olympian_data.dropna(inplace=True)"
   ]
  },
  {
   "cell_type": "markdown",
   "metadata": {},
   "source": [
    "### Chapter 2b: Slicing our data\n",
    "\n",
    "Our data is clean! Now, it's time to start slicing and filtering our data before we cluster it using the k-means algorithm.\n",
    "\n",
    "We're going to want to cluster by two sports (k=2), so first, let's take a look at all the sports we have in our `Sport` column of the DataFrame.\n",
    "\n",
    "There are two ways to slice a DataFrame by its column:\n",
    "* Dot notation: `olympian_data.Sport`\n",
    "* Bracket notation: `olympian_data['Sport']`"
   ]
  },
  {
   "cell_type": "code",
   "execution_count": 24,
   "metadata": {},
   "outputs": [
    {
     "data": {
      "text/plain": [
       "['Alpine Skiing',\n",
       " 'Archery',\n",
       " 'Art Competitions',\n",
       " 'Athletics',\n",
       " 'Badminton',\n",
       " 'Baseball',\n",
       " 'Basketball',\n",
       " 'Beach Volleyball',\n",
       " 'Biathlon',\n",
       " 'Bobsleigh',\n",
       " 'Boxing',\n",
       " 'Canoeing',\n",
       " 'Cross Country Skiing',\n",
       " 'Curling',\n",
       " 'Cycling',\n",
       " 'Diving',\n",
       " 'Equestrianism',\n",
       " 'Fencing',\n",
       " 'Figure Skating',\n",
       " 'Football',\n",
       " 'Freestyle Skiing',\n",
       " 'Golf',\n",
       " 'Gymnastics',\n",
       " 'Handball',\n",
       " 'Hockey',\n",
       " 'Ice Hockey',\n",
       " 'Judo',\n",
       " 'Lacrosse',\n",
       " 'Luge',\n",
       " 'Modern Pentathlon',\n",
       " 'Motorboating',\n",
       " 'Nordic Combined',\n",
       " 'Rhythmic Gymnastics',\n",
       " 'Rowing',\n",
       " 'Rugby',\n",
       " 'Rugby Sevens',\n",
       " 'Sailing',\n",
       " 'Shooting',\n",
       " 'Short Track Speed Skating',\n",
       " 'Skeleton',\n",
       " 'Ski Jumping',\n",
       " 'Snowboarding',\n",
       " 'Softball',\n",
       " 'Speed Skating',\n",
       " 'Swimming',\n",
       " 'Synchronized Swimming',\n",
       " 'Table Tennis',\n",
       " 'Taekwondo',\n",
       " 'Tennis',\n",
       " 'Trampolining',\n",
       " 'Triathlon',\n",
       " 'Tug-Of-War',\n",
       " 'Volleyball',\n",
       " 'Water Polo',\n",
       " 'Weightlifting',\n",
       " 'Wrestling']"
      ]
     },
     "execution_count": 24,
     "metadata": {},
     "output_type": "execute_result"
    }
   ],
   "source": [
    "# Try sorting the data and calling `.unique()`\n",
    "sorted(olympian_data.Sport.unique())"
   ]
  },
  {
   "cell_type": "markdown",
   "metadata": {},
   "source": [
    "For maximal clustering, let's filter out two sports where the athletes might diverge greatly by height and weight. How about Basketball and Gymnastics? What if we separated by Men's and Women's teams as well?"
   ]
  },
  {
   "cell_type": "code",
   "execution_count": 25,
   "metadata": {},
   "outputs": [],
   "source": [
    "two_sports = olympian_data[((olympian_data.Sport == 'Basketball') \n",
    "                            & (olympian_data.Sex == 'M')) | \n",
    "                           ((olympian_data.Sport == 'Gymnastics') \n",
    "                            & (olympian_data.Sex == 'F'))]"
   ]
  },
  {
   "cell_type": "markdown",
   "metadata": {},
   "source": [
    "## Chapter 3: Clustering!\n",
    "\n",
    "Now that we have data that should filter into two groups (Men's Basketball and Women's Gymnastics), it's time to cluster. We are using scikit-learn's `KMeans` method to create a KMeans model. We need to pass in an `n_clusters` argument to tell it how many centroids to cluster around.\n",
    "\n",
    "We want to call the `fit()` method passing in the DataFrame columns that we want the clustering algorithm to use, in this case: `Weight` and `Height`."
   ]
  },
  {
   "cell_type": "code",
   "execution_count": 26,
   "metadata": {},
   "outputs": [],
   "source": [
    "kmeans_model = KMeans(\n",
    "    n_clusters=2\n",
    ").fit(\n",
    "    two_sports[['Weight', 'Height']]\n",
    ")"
   ]
  },
  {
   "cell_type": "markdown",
   "metadata": {},
   "source": [
    "Recall that part of the k-means algorithm involves updating the location of the centroids until none of the data points change cluster. Let's see how many iterations it took to find the final centroids with the `n_iter_` attribute:"
   ]
  },
  {
   "cell_type": "code",
   "execution_count": 27,
   "metadata": {},
   "outputs": [
    {
     "data": {
      "text/plain": [
       "3"
      ]
     },
     "execution_count": 27,
     "metadata": {},
     "output_type": "execute_result"
    }
   ],
   "source": [
    "kmeans_model.n_iter_"
   ]
  },
  {
   "cell_type": "markdown",
   "metadata": {},
   "source": [
    "We can also look at the coordinates of the two cluster centroids at the end of the algorithm's run with the `cluster_centers_` attribute:"
   ]
  },
  {
   "cell_type": "code",
   "execution_count": 28,
   "metadata": {},
   "outputs": [
    {
     "data": {
      "text/plain": [
       "array([[ 91.39779965, 195.34047481],\n",
       "       [ 47.80868444, 156.30782459]])"
      ]
     },
     "execution_count": 28,
     "metadata": {},
     "output_type": "execute_result"
    }
   ],
   "source": [
    "kmeans_model.cluster_centers_"
   ]
  },
  {
   "cell_type": "markdown",
   "metadata": {},
   "source": [
    "It's important to note that the KMeans algorithm just clustered our data based on the two columns of data (`Weight` and `Height`). It has no concept of which `Sport` each athlete competed in.\n",
    "\n",
    "Let's add a column to our `two_sports` DataFrame that will show which cluster each athlete should be assigned to. This is the output of the `KMeans` class's `predict()` method."
   ]
  },
  {
   "cell_type": "code",
   "execution_count": 29,
   "metadata": {},
   "outputs": [],
   "source": [
    "predictions = kmeans_model.predict(two_sports[['Weight', 'Height']])\n",
    "two_sports = two_sports.assign(Prediction=predictions)"
   ]
  },
  {
   "cell_type": "markdown",
   "metadata": {},
   "source": [
    "Now that we've added this extra column, we can look at a few of the rows to see where each athlete is predicted to fall. We could do this with `head()` like we did we above, but let's try slicing the DataFrame with `iloc`."
   ]
  },
  {
   "cell_type": "code",
   "execution_count": 30,
   "metadata": {},
   "outputs": [
    {
     "data": {
      "text/html": [
       "<div>\n",
       "<style scoped>\n",
       "    .dataframe tbody tr th:only-of-type {\n",
       "        vertical-align: middle;\n",
       "    }\n",
       "\n",
       "    .dataframe tbody tr th {\n",
       "        vertical-align: top;\n",
       "    }\n",
       "\n",
       "    .dataframe thead th {\n",
       "        text-align: right;\n",
       "    }\n",
       "</style>\n",
       "<table border=\"1\" class=\"dataframe\">\n",
       "  <thead>\n",
       "    <tr style=\"text-align: right;\">\n",
       "      <th></th>\n",
       "      <th>Name</th>\n",
       "      <th>Sex</th>\n",
       "      <th>Height</th>\n",
       "      <th>Weight</th>\n",
       "      <th>Team</th>\n",
       "      <th>Sport</th>\n",
       "      <th>Prediction</th>\n",
       "    </tr>\n",
       "  </thead>\n",
       "  <tbody>\n",
       "    <tr>\n",
       "      <th>705</th>\n",
       "      <td>Ruth Abeles</td>\n",
       "      <td>F</td>\n",
       "      <td>153.0</td>\n",
       "      <td>48.0</td>\n",
       "      <td>Israel</td>\n",
       "      <td>Gymnastics</td>\n",
       "      <td>1</td>\n",
       "    </tr>\n",
       "    <tr>\n",
       "      <th>833</th>\n",
       "      <td>Essameldin Abou El-Nein</td>\n",
       "      <td>M</td>\n",
       "      <td>205.0</td>\n",
       "      <td>102.0</td>\n",
       "      <td>Egypt</td>\n",
       "      <td>Basketball</td>\n",
       "      <td>0</td>\n",
       "    </tr>\n",
       "    <tr>\n",
       "      <th>1018</th>\n",
       "      <td>Pedro Abreu Pascal</td>\n",
       "      <td>M</td>\n",
       "      <td>200.0</td>\n",
       "      <td>88.0</td>\n",
       "      <td>Cuba</td>\n",
       "      <td>Basketball</td>\n",
       "      <td>0</td>\n",
       "    </tr>\n",
       "    <tr>\n",
       "      <th>1029</th>\n",
       "      <td>Alejandro \"lex\" Abrines Redondo</td>\n",
       "      <td>M</td>\n",
       "      <td>198.0</td>\n",
       "      <td>93.0</td>\n",
       "      <td>Spain</td>\n",
       "      <td>Basketball</td>\n",
       "      <td>0</td>\n",
       "    </tr>\n",
       "    <tr>\n",
       "      <th>1082</th>\n",
       "      <td>Ginko Abukawa-Chiba</td>\n",
       "      <td>F</td>\n",
       "      <td>148.0</td>\n",
       "      <td>46.0</td>\n",
       "      <td>Japan</td>\n",
       "      <td>Gymnastics</td>\n",
       "      <td>1</td>\n",
       "    </tr>\n",
       "    <tr>\n",
       "      <th>1120</th>\n",
       "      <td>Andreea Roxana Acatrinei</td>\n",
       "      <td>F</td>\n",
       "      <td>150.0</td>\n",
       "      <td>40.0</td>\n",
       "      <td>Romania</td>\n",
       "      <td>Gymnastics</td>\n",
       "      <td>1</td>\n",
       "    </tr>\n",
       "    <tr>\n",
       "      <th>1181</th>\n",
       "      <td>Emilio Achacoso</td>\n",
       "      <td>M</td>\n",
       "      <td>178.0</td>\n",
       "      <td>78.0</td>\n",
       "      <td>Philippines</td>\n",
       "      <td>Basketball</td>\n",
       "      <td>0</td>\n",
       "    </tr>\n",
       "    <tr>\n",
       "      <th>1186</th>\n",
       "      <td>Kieron Robert Achara</td>\n",
       "      <td>M</td>\n",
       "      <td>208.0</td>\n",
       "      <td>110.0</td>\n",
       "      <td>Great Britain</td>\n",
       "      <td>Basketball</td>\n",
       "      <td>0</td>\n",
       "    </tr>\n",
       "    <tr>\n",
       "      <th>1322</th>\n",
       "      <td>Roberto Acua</td>\n",
       "      <td>M</td>\n",
       "      <td>208.0</td>\n",
       "      <td>109.0</td>\n",
       "      <td>Argentina</td>\n",
       "      <td>Basketball</td>\n",
       "      <td>0</td>\n",
       "    </tr>\n",
       "    <tr>\n",
       "      <th>1701</th>\n",
       "      <td>Adilson de Freitas Nascimento</td>\n",
       "      <td>M</td>\n",
       "      <td>195.0</td>\n",
       "      <td>88.0</td>\n",
       "      <td>Brazil</td>\n",
       "      <td>Basketball</td>\n",
       "      <td>0</td>\n",
       "    </tr>\n",
       "    <tr>\n",
       "      <th>1742</th>\n",
       "      <td>Lena Kristina Adler</td>\n",
       "      <td>F</td>\n",
       "      <td>162.0</td>\n",
       "      <td>56.0</td>\n",
       "      <td>Sweden</td>\n",
       "      <td>Gymnastics</td>\n",
       "      <td>1</td>\n",
       "    </tr>\n",
       "    <tr>\n",
       "      <th>1757</th>\n",
       "      <td>Jonna Eva-Maj Adlerteg</td>\n",
       "      <td>F</td>\n",
       "      <td>153.0</td>\n",
       "      <td>38.0</td>\n",
       "      <td>Sweden</td>\n",
       "      <td>Gymnastics</td>\n",
       "      <td>1</td>\n",
       "    </tr>\n",
       "    <tr>\n",
       "      <th>1778</th>\n",
       "      <td>Hamdi Adly El-Seoudi Ibrahim</td>\n",
       "      <td>M</td>\n",
       "      <td>194.0</td>\n",
       "      <td>82.0</td>\n",
       "      <td>Egypt</td>\n",
       "      <td>Basketball</td>\n",
       "      <td>0</td>\n",
       "    </tr>\n",
       "    <tr>\n",
       "      <th>1807</th>\n",
       "      <td>Dainius Adomaitis</td>\n",
       "      <td>M</td>\n",
       "      <td>202.0</td>\n",
       "      <td>100.0</td>\n",
       "      <td>Lithuania</td>\n",
       "      <td>Basketball</td>\n",
       "      <td>0</td>\n",
       "    </tr>\n",
       "    <tr>\n",
       "      <th>1810</th>\n",
       "      <td>Lena Annika Adomat</td>\n",
       "      <td>F</td>\n",
       "      <td>162.0</td>\n",
       "      <td>56.0</td>\n",
       "      <td>Sweden</td>\n",
       "      <td>Gymnastics</td>\n",
       "      <td>1</td>\n",
       "    </tr>\n",
       "    <tr>\n",
       "      <th>1826</th>\n",
       "      <td>William Adornado</td>\n",
       "      <td>M</td>\n",
       "      <td>187.0</td>\n",
       "      <td>77.0</td>\n",
       "      <td>Philippines</td>\n",
       "      <td>Basketball</td>\n",
       "      <td>0</td>\n",
       "    </tr>\n",
       "    <tr>\n",
       "      <th>1829</th>\n",
       "      <td>Rubn Adorno Melndez</td>\n",
       "      <td>M</td>\n",
       "      <td>190.0</td>\n",
       "      <td>91.0</td>\n",
       "      <td>Puerto Rico</td>\n",
       "      <td>Basketball</td>\n",
       "      <td>0</td>\n",
       "    </tr>\n",
       "    <tr>\n",
       "      <th>1933</th>\n",
       "      <td>Hamed Afagh Eslamieh</td>\n",
       "      <td>M</td>\n",
       "      <td>188.0</td>\n",
       "      <td>82.0</td>\n",
       "      <td>Iran</td>\n",
       "      <td>Basketball</td>\n",
       "      <td>0</td>\n",
       "    </tr>\n",
       "    <tr>\n",
       "      <th>1937</th>\n",
       "      <td>Kseniya Dmitriyevna Afanasyeva</td>\n",
       "      <td>F</td>\n",
       "      <td>158.0</td>\n",
       "      <td>48.0</td>\n",
       "      <td>Russia</td>\n",
       "      <td>Gymnastics</td>\n",
       "      <td>1</td>\n",
       "    </tr>\n",
       "    <tr>\n",
       "      <th>2004</th>\n",
       "      <td>Lavinia Agache (-Carney)</td>\n",
       "      <td>F</td>\n",
       "      <td>148.0</td>\n",
       "      <td>40.0</td>\n",
       "      <td>Romania</td>\n",
       "      <td>Gymnastics</td>\n",
       "      <td>1</td>\n",
       "    </tr>\n",
       "  </tbody>\n",
       "</table>\n",
       "</div>"
      ],
      "text/plain": [
       "                                 Name Sex  Height  Weight           Team  \\\n",
       "705                       Ruth Abeles   F   153.0    48.0         Israel   \n",
       "833           Essameldin Abou El-Nein   M   205.0   102.0          Egypt   \n",
       "1018               Pedro Abreu Pascal   M   200.0    88.0           Cuba   \n",
       "1029  Alejandro \"lex\" Abrines Redondo   M   198.0    93.0          Spain   \n",
       "1082              Ginko Abukawa-Chiba   F   148.0    46.0          Japan   \n",
       "1120         Andreea Roxana Acatrinei   F   150.0    40.0        Romania   \n",
       "1181                  Emilio Achacoso   M   178.0    78.0    Philippines   \n",
       "1186             Kieron Robert Achara   M   208.0   110.0  Great Britain   \n",
       "1322                     Roberto Acua   M   208.0   109.0      Argentina   \n",
       "1701    Adilson de Freitas Nascimento   M   195.0    88.0         Brazil   \n",
       "1742              Lena Kristina Adler   F   162.0    56.0         Sweden   \n",
       "1757           Jonna Eva-Maj Adlerteg   F   153.0    38.0         Sweden   \n",
       "1778     Hamdi Adly El-Seoudi Ibrahim   M   194.0    82.0          Egypt   \n",
       "1807                Dainius Adomaitis   M   202.0   100.0      Lithuania   \n",
       "1810               Lena Annika Adomat   F   162.0    56.0         Sweden   \n",
       "1826                 William Adornado   M   187.0    77.0    Philippines   \n",
       "1829              Rubn Adorno Melndez   M   190.0    91.0    Puerto Rico   \n",
       "1933             Hamed Afagh Eslamieh   M   188.0    82.0           Iran   \n",
       "1937   Kseniya Dmitriyevna Afanasyeva   F   158.0    48.0         Russia   \n",
       "2004         Lavinia Agache (-Carney)   F   148.0    40.0        Romania   \n",
       "\n",
       "           Sport  Prediction  \n",
       "705   Gymnastics           1  \n",
       "833   Basketball           0  \n",
       "1018  Basketball           0  \n",
       "1029  Basketball           0  \n",
       "1082  Gymnastics           1  \n",
       "1120  Gymnastics           1  \n",
       "1181  Basketball           0  \n",
       "1186  Basketball           0  \n",
       "1322  Basketball           0  \n",
       "1701  Basketball           0  \n",
       "1742  Gymnastics           1  \n",
       "1757  Gymnastics           1  \n",
       "1778  Basketball           0  \n",
       "1807  Basketball           0  \n",
       "1810  Gymnastics           1  \n",
       "1826  Basketball           0  \n",
       "1829  Basketball           0  \n",
       "1933  Basketball           0  \n",
       "1937  Gymnastics           1  \n",
       "2004  Gymnastics           1  "
      ]
     },
     "execution_count": 30,
     "metadata": {},
     "output_type": "execute_result"
    }
   ],
   "source": [
    "two_sports.iloc[10:30]"
   ]
  },
  {
   "cell_type": "markdown",
   "metadata": {},
   "source": [
    "## Chapter 4: Let's plot!\n",
    "We'll be using `seaborn` and `matplotlib` to plot our data. First, let's graph our actual data, coloring the datapoints by their sport. As you can see, there are two distinct groups: Men's Basketball athletes and Women's Gymnastics athletes."
   ]
  },
  {
   "cell_type": "code",
   "execution_count": 31,
   "metadata": {},
   "outputs": [
    {
     "data": {
      "text/plain": [
       "Text(0.5, 1.0, 'Athletes, grouped by Sport')"
      ]
     },
     "execution_count": 31,
     "metadata": {},
     "output_type": "execute_result"
    },
    {
     "data": {
      "image/png": "[encoded data removed]",
      "text/plain": [
       "<Figure size 432x288 with 1 Axes>"
      ]
     },
     "metadata": {
      "needs_background": "light"
     },
     "output_type": "display_data"
    }
   ],
   "source": [
    "seaborn.scatterplot(\n",
    "    'Weight',\n",
    "    'Height',\n",
    "    data=two_sports[['Weight', 'Height', 'Sport']],\n",
    "    hue=\"Sport\",\n",
    ")\n",
    "# title\n",
    "plt.title('Athletes, grouped by Sport')"
   ]
  },
  {
   "cell_type": "markdown",
   "metadata": {},
   "source": [
    "Finally, let's plot our data using the `prediction` column that we added earlier. Instead of coloring the plots by Sport, we will color by which cluster the k-means algorithm predicts they will fall into.\n",
    "\n",
    "Compare the resulting plot to the one above. How similar are the k-means clusters to the actual sports data?"
   ]
  },
  {
   "cell_type": "code",
   "execution_count": 32,
   "metadata": {},
   "outputs": [
    {
     "data": {
      "text/plain": [
       "Text(0.5, 1.0, 'Athletes in predicted clusters')"
      ]
     },
     "execution_count": 32,
     "metadata": {},
     "output_type": "execute_result"
    },
    {
     "data": {
      "image/png": "[encoded data removed]",
      "text/plain": [
       "<Figure size 432x288 with 1 Axes>"
      ]
     },
     "metadata": {
      "needs_background": "light"
     },
     "output_type": "display_data"
    }
   ],
   "source": [
    "seaborn.scatterplot(\n",
    "    'Weight',\n",
    "    'Height',\n",
    "    data=two_sports[['Weight', 'Height', 'Prediction']],\n",
    "    hue=\"Prediction\"\n",
    ")\n",
    "# title\n",
    "plt.title('Athletes in predicted clusters')"
   ]
  },
  {
   "cell_type": "markdown",
   "metadata": {},
   "source": [
    "## Chapter 5: Go to the Olympics!\n",
    "\n",
    "Every two years, I watch the Olympics and decide that I am destined for athletic glory. Maybe you do too! \n",
    "\n",
    "We've seen that the k-means algorithm did a *pretty* good job at clustering athletes accurately based on their height and weight. Use the `predict()` method on our `kmeans_model` object from above and enter in your own weight in kg and height in cm. "
   ]
  },
  {
   "cell_type": "code",
   "execution_count": 33,
   "metadata": {},
   "outputs": [
    {
     "data": {
      "text/plain": [
       "array([1], dtype=int32)"
      ]
     },
     "execution_count": 33,
     "metadata": {},
     "output_type": "execute_result"
    }
   ],
   "source": [
    "# Substitute your own weight (in kg) and height (in cm) to predict which cluster you fall into.\n",
    "kmeans_model.predict([[68, 160]])"
   ]
  },
  {
   "cell_type": "markdown",
   "metadata": {},
   "source": [
    "Which cluster did it output for your given statistics? Are you more likely to be a gymnast or a basketball player?\n",
    "\n",
    "Text me at MY_NUMBER to tell me which sport you're more likely to compete in!"
   ]
  }
 ],
 "metadata": {
  "kernelspec": {
   "display_name": "Python 3",
   "language": "python",
   "name": "python3"
  },
  "language_info": {
   "codemirror_mode": {
    "name": "ipython",
    "version": 3
   },
   "file_extension": ".py",
   "mimetype": "text/x-python",
   "name": "python",
   "nbconvert_exporter": "python",
   "pygments_lexer": "ipython3",
   "version": "3.7.1"
  }
 },
 "nbformat": 4,
 "nbformat_minor": 2
}
